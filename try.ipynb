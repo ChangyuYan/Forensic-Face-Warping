{
 "cells": [
  {
   "cell_type": "code",
   "execution_count": 1,
   "id": "099f1e99",
   "metadata": {},
   "outputs": [],
   "source": [
    "import cv2\n",
    "import dlib"
   ]
  },
  {
   "cell_type": "code",
   "execution_count": 2,
   "id": "c24b8f5f",
   "metadata": {},
   "outputs": [],
   "source": [
    "cap = cv2.VideoCapture(\"./data/Deepfakes/000_003.mp4\")\n",
    "success, frame = cap.read()"
   ]
  },
  {
   "cell_type": "code",
   "execution_count": 4,
   "id": "de2bc98f",
   "metadata": {},
   "outputs": [
    {
     "data": {
      "text/plain": [
       "numpy.ndarray"
      ]
     },
     "execution_count": 4,
     "metadata": {},
     "output_type": "execute_result"
    }
   ],
   "source": [
    "type(frame)"
   ]
  },
  {
   "cell_type": "code",
   "execution_count": 5,
   "id": "1c40381a",
   "metadata": {},
   "outputs": [
    {
     "data": {
      "text/plain": [
       "(480, 640, 3)"
      ]
     },
     "execution_count": 5,
     "metadata": {},
     "output_type": "execute_result"
    }
   ],
   "source": [
    "frame.shape"
   ]
  },
  {
   "cell_type": "code",
   "execution_count": 12,
   "id": "7387363c",
   "metadata": {},
   "outputs": [],
   "source": [
    "img = cv2.imread(\"./sample_images/me.jpg\")\n",
    "img_gray = cv2.cvtColor(img, cv2.COLOR_BGR2GRAY) # Speeding up detection by using gray image"
   ]
  },
  {
   "cell_type": "code",
   "execution_count": 8,
   "id": "0e4afefd",
   "metadata": {},
   "outputs": [
    {
     "data": {
      "text/plain": [
       "(1421, 1142, 3)"
      ]
     },
     "execution_count": 8,
     "metadata": {},
     "output_type": "execute_result"
    }
   ],
   "source": [
    "img.shape"
   ]
  },
  {
   "cell_type": "code",
   "execution_count": 9,
   "id": "43fcfbb2",
   "metadata": {},
   "outputs": [],
   "source": [
    "detector = dlib.get_frontal_face_detector()\n",
    "predictor = dlib.shape_predictor(\"shape_predictor_68_face_landmarks.dat\")"
   ]
  },
  {
   "cell_type": "code",
   "execution_count": 13,
   "id": "3b205b53",
   "metadata": {},
   "outputs": [],
   "source": [
    "faces = detector(img_gray)"
   ]
  },
  {
   "cell_type": "code",
   "execution_count": 17,
   "id": "39ec321b",
   "metadata": {},
   "outputs": [
    {
     "name": "stdout",
     "output_type": "stream",
     "text": [
      "0 333 589\n",
      "1 334 644\n",
      "2 340 696\n",
      "3 350 746\n",
      "4 365 794\n",
      "5 386 838\n",
      "6 416 875\n",
      "7 452 907\n",
      "8 498 920\n",
      "9 550 918\n",
      "10 603 898\n",
      "11 651 871\n",
      "12 687 831\n",
      "13 712 782\n",
      "14 732 731\n",
      "15 748 676\n",
      "16 758 616\n",
      "17 349 533\n",
      "18 375 511\n",
      "19 409 506\n",
      "20 446 516\n",
      "21 478 537\n",
      "22 554 547\n",
      "23 597 532\n",
      "24 643 531\n",
      "25 686 545\n",
      "26 715 575\n",
      "27 511 606\n",
      "28 507 644\n",
      "29 502 681\n",
      "30 497 717\n",
      "31 468 741\n",
      "32 484 749\n",
      "33 501 756\n",
      "34 521 752\n",
      "35 541 749\n",
      "36 385 593\n",
      "37 408 582\n",
      "38 436 586\n",
      "39 460 607\n",
      "40 432 610\n",
      "41 403 608\n",
      "42 581 619\n",
      "43 609 602\n",
      "44 638 602\n",
      "45 664 617\n",
      "46 639 628\n",
      "47 609 626\n",
      "48 440 806\n",
      "49 464 793\n",
      "50 485 786\n",
      "51 504 792\n",
      "52 523 789\n",
      "53 549 801\n",
      "54 583 817\n",
      "55 549 830\n",
      "56 523 832\n",
      "57 503 831\n",
      "58 482 828\n",
      "59 464 822\n",
      "60 453 806\n",
      "61 484 806\n",
      "62 504 809\n",
      "63 523 810\n",
      "64 567 816\n",
      "65 523 807\n",
      "66 504 805\n",
      "67 484 801\n"
     ]
    }
   ],
   "source": [
    "for face in faces:\n",
    "    landmarks = predictor(img_gray, face)\n",
    "    count = 0\n",
    "    for n in range(68):\n",
    "        x = landmarks.part(n).x\n",
    "        y = landmarks.part(n).y\n",
    "        print(count, x, y)\n",
    "        count += 1"
   ]
  },
  {
   "cell_type": "code",
   "execution_count": null,
   "id": "a9fa29bc",
   "metadata": {},
   "outputs": [],
   "source": []
  }
 ],
 "metadata": {
  "kernelspec": {
   "display_name": "Python 3 (ipykernel)",
   "language": "python",
   "name": "python3"
  },
  "language_info": {
   "codemirror_mode": {
    "name": "ipython",
    "version": 3
   },
   "file_extension": ".py",
   "mimetype": "text/x-python",
   "name": "python",
   "nbconvert_exporter": "python",
   "pygments_lexer": "ipython3",
   "version": "3.8.2"
  }
 },
 "nbformat": 4,
 "nbformat_minor": 5
}
